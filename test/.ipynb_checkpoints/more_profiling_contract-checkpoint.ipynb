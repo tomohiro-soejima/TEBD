{
 "cells": [
  {
   "cell_type": "code",
   "execution_count": 5,
   "metadata": {
    "collapsed": false
   },
   "outputs": [
    {
     "name": "stderr",
     "output_type": "stream",
     "text": [
      "WARNING: replacing module VidalTEBD.\n"
     ]
    }
   ],
   "source": [
    "include(\"../VidalTEBD.jl\")\n",
    "\n",
    "using .VidalTEBD\n",
    "using LinearAlgebra\n",
    "using BenchmarkTools"
   ]
  },
  {
   "cell_type": "code",
   "execution_count": 3,
   "metadata": {
    "collapsed": false
   },
   "outputs": [
    {
     "data": {
      "text/plain": [
       "diag_contract (generic function with 1 method)"
      ]
     },
     "execution_count": 3,
     "metadata": {},
     "output_type": "execute_result"
    }
   ],
   "source": [
    "function diag_contract(M,loc1,Gamma,loc2)\n",
    "    #contract an index\n",
    "    #=\n",
    "    loc1,loc2 are arrays of index to be contracted\n",
    "    Make sure prod(size1[loc1]) = prod(size2[loc2])\n",
    "    =#\n",
    "    size1 = size(M)\n",
    "    dim1 = length(size1)\n",
    "    size2 = size(Gamma)\n",
    "    dim2 = length(size2)\n",
    "    index1 = filter(p->p∉loc1,collect(1:dim1))\n",
    "    index2 = filter(p->p∉loc2,collect(1:dim2))\n",
    "    dim_M2_1 = prod(size1[index1])\n",
    "    dim_M2_2 = prod(size1[loc1])\n",
    "    dim_G2_2 = prod(size2[index2])\n",
    "    dim_G2_1 = prod(size2[loc2])\n",
    "\n",
    "    if size(loc2)[1] == dim2\n",
    "        Gamma2 = reshape(Gamma,dim_G2_1)\n",
    "    else\n",
    "        Gamma2 = (reshape(permutedims(Gamma,Tuple(vcat(loc2,index2))),dim_G2_1,dim_G2_2))\n",
    "    end\n",
    "    reshape(M*Gamma2,(size1[index1]...,size2[index2]...))\n",
    "end"
   ]
  },
  {
   "cell_type": "code",
   "execution_count": 6,
   "metadata": {
    "collapsed": false
   },
   "outputs": [
    {
     "name": "stdout",
     "output_type": "stream",
     "text": [
      "  17.479 μs (39 allocations: 36.33 KiB)\n",
      "  119.690 μs (62 allocations: 7.88 KiB)\n"
     ]
    },
    {
     "ename": "UndefVarError",
     "evalue": "UndefVarError: M2 not defined",
     "output_type": "error",
     "traceback": [
      "UndefVarError: M2 not defined",
      "",
      "Stacktrace:",
      " [1] diag_contract(::Array{Float64,2}, ::Array{Int64,1}, ::Array{Float64,2}, ::Array{Int64,1}) at .\\In[3]:23",
      " [2] ##core#466(::Array{Float64,2}, ::Array{Float64,2}) at C:\\Users\\tsoej\\.julia\\packages\\BenchmarkTools\\dtwnm\\src\\execution.jl:293",
      " [3] ##sample#467(::BenchmarkTools.Parameters) at C:\\Users\\tsoej\\.julia\\packages\\BenchmarkTools\\dtwnm\\src\\execution.jl:299",
      " [4] #_run#9(::Bool, ::String, ::Base.Iterators.Pairs{Symbol,Integer,NTuple{4,Symbol},NamedTuple{(:samples, :evals, :gctrial, :gcsample),Tuple{Int64,Int64,Bool,Bool}}}, ::Function, ::BenchmarkTools.Benchmark{Symbol(\"##benchmark#465\")}, ::BenchmarkTools.Parameters) at C:\\Users\\tsoej\\.julia\\packages\\BenchmarkTools\\dtwnm\\src\\execution.jl:327",
      " [5] (::getfield(Base, Symbol(\"#inner#2\")){Base.Iterators.Pairs{Symbol,Integer,NTuple{5,Symbol},NamedTuple{(:verbose, :samples, :evals, :gctrial, :gcsample),Tuple{Bool,Int64,Int64,Bool,Bool}}},typeof(BenchmarkTools._run),Tuple{BenchmarkTools.Benchmark{Symbol(\"##benchmark#465\")},BenchmarkTools.Parameters}})() at .\\none:0",
      " [6] #invokelatest#1 at .\\essentials.jl:695 [inlined]",
      " [7] #invokelatest at .\\none:0 [inlined]",
      " [8] #run_result#16 at C:\\Users\\tsoej\\.julia\\packages\\BenchmarkTools\\dtwnm\\src\\execution.jl:32 [inlined]",
      " [9] #run_result at .\\none:0 [inlined]",
      " [10] #run#18(::Base.Iterators.Pairs{Symbol,Integer,NTuple{5,Symbol},NamedTuple{(:verbose, :samples, :evals, :gctrial, :gcsample),Tuple{Bool,Int64,Int64,Bool,Bool}}}, ::Function, ::BenchmarkTools.Benchmark{Symbol(\"##benchmark#465\")}, ::BenchmarkTools.Parameters) at C:\\Users\\tsoej\\.julia\\packages\\BenchmarkTools\\dtwnm\\src\\execution.jl:46",
      " [11] #run at .\\none:0 [inlined] (repeats 2 times)",
      " [12] #warmup#21 at C:\\Users\\tsoej\\.julia\\packages\\BenchmarkTools\\dtwnm\\src\\execution.jl:79 [inlined]",
      " [13] warmup(::BenchmarkTools.Benchmark{Symbol(\"##benchmark#465\")}) at C:\\Users\\tsoej\\.julia\\packages\\BenchmarkTools\\dtwnm\\src\\execution.jl:79",
      " [14] top-level scope at C:\\Users\\tsoej\\.julia\\packages\\BenchmarkTools\\dtwnm\\src\\execution.jl:387",
      " [15] top-level scope at In[6]:7"
     ]
    }
   ],
   "source": [
    "A_non_diag = rand(64,64)\n",
    "A_diag = Diagonal(rand(64))\n",
    "B = rand(64,2)\n",
    "\n",
    "@btime VidalTEBD.contract($A_non_diag,[2],$B,[1])\n",
    "@btime VidalTEBD.contract($A_diag,[2],$B,[1])\n",
    "@btime diag_contract($A_non_diag,[2],$B,[1])\n",
    "@btime diag_contract($A_diag,[2],$B,[1])"
   ]
  },
  {
   "cell_type": "code",
   "execution_count": null,
   "metadata": {
    "collapsed": true
   },
   "outputs": [],
   "source": []
  }
 ],
 "metadata": {
  "anaconda-cloud": {},
  "kernelspec": {
   "display_name": "Julia 0.7.0",
   "language": "julia",
   "name": "julia-0.7"
  },
  "language_info": {
   "file_extension": ".jl",
   "mimetype": "application/julia",
   "name": "julia",
   "version": "0.7.0"
  }
 },
 "nbformat": 4,
 "nbformat_minor": 1
}
