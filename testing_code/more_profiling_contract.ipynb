{
 "cells": [
  {
   "cell_type": "code",
   "execution_count": 5,
   "metadata": {
    "collapsed": false
   },
   "outputs": [
    {
     "name": "stderr",
     "output_type": "stream",
     "text": [
      "WARNING: replacing module VidalTEBD.\n"
     ]
    }
   ],
   "source": [
    "include(\"../VidalTEBD.jl\")\n",
    "\n",
    "using .VidalTEBD\n",
    "using LinearAlgebra\n",
    "using BenchmarkTools"
   ]
  },
  {
   "cell_type": "code",
   "execution_count": 24,
   "metadata": {
    "collapsed": false
   },
   "outputs": [
    {
     "data": {
      "text/plain": [
       "better_contract (generic function with 1 method)"
      ]
     },
     "execution_count": 24,
     "metadata": {},
     "output_type": "execute_result"
    }
   ],
   "source": [
    "function diag_contract(M,loc1,Gamma,loc2)\n",
    "    #contract an index\n",
    "    #=\n",
    "    loc1,loc2 are arrays of index to be contracted\n",
    "    Make sure prod(size1[loc1]) = prod(size2[loc2])\n",
    "    =#\n",
    "    size1 = size(M)\n",
    "    dim1 = length(size1)\n",
    "    size2 = size(Gamma)\n",
    "    dim2 = length(size2)\n",
    "    index1 = filter(p->p∉loc1,collect(1:dim1))\n",
    "    index2 = filter(p->p∉loc2,collect(1:dim2))\n",
    "    dim_M2_1 = prod(size1[index1])\n",
    "    dim_M2_2 = prod(size1[loc1])\n",
    "    dim_G2_2 = prod(size2[index2])\n",
    "    dim_G2_1 = prod(size2[loc2])\n",
    "\n",
    "    if size(loc2)[1] == dim2\n",
    "        Gamma2 = reshape(Gamma,dim_G2_1)\n",
    "    else\n",
    "        Gamma2 = (reshape(permutedims(Gamma,Tuple(vcat(loc2,index2))),dim_G2_1,dim_G2_2))\n",
    "    end\n",
    "    reshape(M*Gamma2,(size1[index1]...,size2[index2]...))\n",
    "end\n",
    "\n",
    "function better_contract(M,loc1,Gamma,loc2)\n",
    "    #contract an index\n",
    "    #=\n",
    "    loc1,loc2 are arrays of index to be contracted\n",
    "    Make sure prod(size1[loc1]) = prod(size2[loc2])\n",
    "    =#\n",
    "    size1 = size(M)\n",
    "    dim1 = length(size1)\n",
    "    size2 = size(Gamma)\n",
    "    dim2 = length(size2)\n",
    "    index1 = filter(p->p∉loc1,collect(1:dim1))\n",
    "    index2 = filter(p->p∉loc2,collect(1:dim2))\n",
    "    dim_M2_1 = prod(size1[index1])\n",
    "    dim_M2_2 = prod(size1[loc1])\n",
    "    dim_G2_2 = prod(size2[index2])\n",
    "    dim_G2_1 = prod(size2[loc2])\n",
    "\n",
    "    if isa(M,Diagonal) & length(loc1) == 1\n",
    "        M2 = M\n",
    "    elseif size(loc1)[1] == dim1\n",
    "        M2 = reshape(M,1,dim_M2_2)\n",
    "    else\n",
    "        M2 = reshape(permutedims(M,Tuple(vcat(index1,loc1))),dim_M2_1,dim_M2_2)\n",
    "    end\n",
    "    \n",
    "    if isa(Gamma,Diagonal) & length(loc2) == 1\n",
    "        Gamma2 = Gamma\n",
    "    elseif size(loc2)[1] == dim2\n",
    "        Gamma2 = reshape(Gamma,dim_G2_1)\n",
    "    else\n",
    "        Gamma2 = (reshape(permutedims(Gamma,Tuple(vcat(loc2,index2))),dim_G2_1,dim_G2_2))\n",
    "    end\n",
    "    reshape(M2*Gamma2,(size1[index1]...,size2[index2]...))\n",
    "\n",
    "end"
   ]
  },
  {
   "cell_type": "markdown",
   "metadata": {},
   "source": [
    "somehow my contract is really bad at dealing with Diagonal matrices"
   ]
  },
  {
   "cell_type": "code",
   "execution_count": 25,
   "metadata": {
    "collapsed": false
   },
   "outputs": [
    {
     "name": "stdout",
     "output_type": "stream",
     "text": [
      "  19.379 μs (39 allocations: 36.33 KiB)\n",
      "  120.450 μs (62 allocations: 7.88 KiB)\n",
      "  7.599 μs (5 allocations: 32.73 KiB)\n",
      "  19.759 μs (39 allocations: 36.33 KiB)\n",
      "  8.486 μs (34 allocations: 4.03 KiB)\n",
      "  4.505 μs (34 allocations: 4.03 KiB)\n",
      "  8.359 μs (34 allocations: 4.03 KiB)\n",
      "  16.339 μs (39 allocations: 36.33 KiB)\n",
      "  4.722 μs (34 allocations: 4.03 KiB)\n",
      "  17.099 μs (39 allocations: 36.33 KiB)\n"
     ]
    },
    {
     "data": {
      "text/plain": [
       "64×2 Array{Float64,2}:\n",
       " 0.266882    0.348197  \n",
       " 0.181864    0.678472  \n",
       " 0.192696    0.470853  \n",
       " 0.811248    0.807167  \n",
       " 0.0706735   0.0893192 \n",
       " 0.0552264   0.0340343 \n",
       " 0.18671     0.0686192 \n",
       " 0.114536    0.119509  \n",
       " 0.00234979  0.014213  \n",
       " 0.307655    0.353832  \n",
       " 0.121672    0.716027  \n",
       " 0.0330437   0.121094  \n",
       " 0.180621    0.098968  \n",
       " ⋮                     \n",
       " 0.129205    0.276322  \n",
       " 0.362468    0.078592  \n",
       " 0.547819    0.584719  \n",
       " 0.581662    0.125472  \n",
       " 0.0176786   0.0317325 \n",
       " 0.25505     0.0795795 \n",
       " 0.00304878  0.031608  \n",
       " 0.062856    0.120755  \n",
       " 0.00235239  0.00228221\n",
       " 0.241874    0.457782  \n",
       " 0.531483    0.325343  \n",
       " 0.0113227   0.0445508 "
      ]
     },
     "execution_count": 25,
     "metadata": {},
     "output_type": "execute_result"
    }
   ],
   "source": [
    "A_non_diag = rand(64,64)\n",
    "A_diag = Diagonal(rand(64))\n",
    "A_diag2 = Matrix(Diagonal(rand(64)))\n",
    "B = rand(64,2)\n",
    "\n",
    "@btime VidalTEBD.contract($A_non_diag,[2],$B,[1])\n",
    "@btime VidalTEBD.contract($A_diag,[2],$B,[1])\n",
    "@btime Matrix(Diagonal(rand(64)))\n",
    "@btime VidalTEBD.contract($A_diag2,[2],$B,[1])\n",
    "@btime diag_contract($A_non_diag,[2],$B,[1])\n",
    "@btime diag_contract($A_diag,[2],$B,[1])\n",
    "@btime diag_contract($A_diag2,[2],$B,[1])\n",
    "@btime better_contract($A_non_diag,[2],$B,[1])\n",
    "@btime better_contract($A_diag,[2],$B,[1])\n",
    "@btime better_contract($A_diag2,[2],$B,[1])"
   ]
  },
  {
   "cell_type": "code",
   "execution_count": 9,
   "metadata": {
    "collapsed": false
   },
   "outputs": [
    {
     "data": {
      "text/plain": [
       "Diagonal{Float64,Array{Float64,1}}"
      ]
     },
     "execution_count": 9,
     "metadata": {},
     "output_type": "execute_result"
    }
   ],
   "source": [
    "typeof(Diagonal(rand(64)))"
   ]
  },
  {
   "cell_type": "code",
   "execution_count": 10,
   "metadata": {
    "collapsed": false
   },
   "outputs": [
    {
     "data": {
      "text/plain": [
       "Array{Float64,2}"
      ]
     },
     "execution_count": 10,
     "metadata": {},
     "output_type": "execute_result"
    }
   ],
   "source": [
    "typeof(Matrix(Diagonal(rand(64))))"
   ]
  },
  {
   "cell_type": "code",
   "execution_count": 18,
   "metadata": {
    "collapsed": false
   },
   "outputs": [
    {
     "data": {
      "text/plain": [
       "true"
      ]
     },
     "execution_count": 18,
     "metadata": {},
     "output_type": "execute_result"
    }
   ],
   "source": [
    "isa(Diagonal(rand(2)),Diagonal{Float64,Array{Float64,1}})"
   ]
  },
  {
   "cell_type": "code",
   "execution_count": 19,
   "metadata": {
    "collapsed": false
   },
   "outputs": [
    {
     "data": {
      "text/plain": [
       "1"
      ]
     },
     "execution_count": 19,
     "metadata": {},
     "output_type": "execute_result"
    }
   ],
   "source": [
    "length([1])"
   ]
  },
  {
   "cell_type": "code",
   "execution_count": null,
   "metadata": {
    "collapsed": true
   },
   "outputs": [],
   "source": []
  }
 ],
 "metadata": {
  "anaconda-cloud": {},
  "kernelspec": {
   "display_name": "Julia 0.7.0",
   "language": "julia",
   "name": "julia-0.7"
  },
  "language_info": {
   "file_extension": ".jl",
   "mimetype": "application/julia",
   "name": "julia",
   "version": "0.7.0"
  }
 },
 "nbformat": 4,
 "nbformat_minor": 1
}
